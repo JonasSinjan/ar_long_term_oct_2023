{
 "cells": [
  {
   "cell_type": "markdown",
   "metadata": {},
   "source": [
    "# Plan for working with the AR Long Term data from Oct 2023\n",
    "\n",
    "## LINKS\n",
    "\n",
    "- [SOOP Page](https://s2e2.cosmos.esa.int/confluence/display/SOSP/R_SMALL_MRES_MCAD_AR-Long-Term)\n",
    "- [Solar Orbiter Archive](https://soar.esac.esa.int/soar/#search)\n",
    "\n",
    "## DATA Search\n",
    "\n",
    "![soar_search](soar_search.png)\n",
    " \n",
    " "
   ]
  },
  {
   "cell_type": "markdown",
   "metadata": {},
   "source": [
    "## Data pre-processing\n",
    "\n",
    "Correct WCS\n",
    "- reproject HRT onto HMI\n",
    "- find error in header coords\n",
    "- reproject again\n",
    "\n",
    "Pipeline to reproject all the HRT blos maps? - save in new directory\n",
    "- optimized pipeline to take submap of the HMI blos maps - so that reprojection is more efficient\n",
    "- need to download all the nearest HMI blos maps, either 45s or 720s (or both!?)\n",
    "\n",
    "Reprojection method\n",
    "- reproject with reproject_adaptive, and restrictive arguments (weighting kernel and input area to resample from)\n",
    "- email Alex (Alejandro) for his code to remap FDT onto HMI"
   ]
  },
  {
   "cell_type": "markdown",
   "metadata": {},
   "source": [
    "# Remap first blos map, to see how horrendous the HRT remapped looks onto such an extremely different detector frame"
   ]
  },
  {
   "cell_type": "code",
   "execution_count": null,
   "metadata": {},
   "outputs": [],
   "source": []
  }
 ],
 "metadata": {
  "kernelspec": {
   "display_name": "py3.10",
   "language": "python",
   "name": "py310"
  },
  "language_info": {
   "codemirror_mode": {
    "name": "ipython",
    "version": 3
   },
   "file_extension": ".py",
   "mimetype": "text/x-python",
   "name": "python",
   "nbconvert_exporter": "python",
   "pygments_lexer": "ipython3",
   "version": "3.10.14"
  }
 },
 "nbformat": 4,
 "nbformat_minor": 2
}
