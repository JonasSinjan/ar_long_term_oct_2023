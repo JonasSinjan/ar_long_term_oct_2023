{
 "cells": [
  {
   "cell_type": "code",
   "execution_count": 1,
   "id": "b4769485-9b37-4ad8-8682-9c23401a413d",
   "metadata": {},
   "outputs": [],
   "source": [
    "#open the old pickles\n",
    "\n",
    "import numpy as np\n",
    "import numpy._core\n",
    "import _pickle as cPickle"
   ]
  },
  {
   "cell_type": "code",
   "execution_count": 2,
   "id": "57edf11c-aa9b-4d33-b66e-8708b20295ff",
   "metadata": {},
   "outputs": [
    {
     "name": "stdout",
     "output_type": "stream",
     "text": [
      "2.2.0\n"
     ]
    }
   ],
   "source": [
    "print(np.__version__)"
   ]
  },
  {
   "cell_type": "code",
   "execution_count": 3,
   "id": "856e4e90-1907-46aa-8cab-9895f9b88fd6",
   "metadata": {},
   "outputs": [
    {
     "name": "stdout",
     "output_type": "stream",
     "text": [
      "<module '_pickle' from '/scratch/slam/sinjan/.conda/envs/old_pickle_loader/lib/python3.10/lib-dynload/_pickle.cpython-310-x86_64-linux-gnu.so'>\n"
     ]
    }
   ],
   "source": [
    "print(cPickle)"
   ]
  },
  {
   "cell_type": "code",
   "execution_count": 4,
   "id": "1d721f12-1208-4211-b29d-cbbb40f70672",
   "metadata": {},
   "outputs": [],
   "source": [
    "# load MU pickles\n",
    "\n",
    "with open('/data/slam/sinjan/arlongterm_pickles/hrt_mu_20231012_20231017.pickle','rb') as f:\n",
    "    hrt_mu_arr=cPickle.load(f)\n",
    "\n",
    "with open('/data/slam/sinjan/arlongterm_pickles/hmi_mu_20231012_20231017.pickle','rb') as f:\n",
    "    hmi_mu_arr=cPickle.load(f)"
   ]
  },
  {
   "cell_type": "code",
   "execution_count": 5,
   "id": "b3ebfb19-a8e4-4cbd-99a1-d4296ebeea19",
   "metadata": {},
   "outputs": [
    {
     "data": {
      "text/plain": [
       "(4102, 4102, 129)"
      ]
     },
     "execution_count": 5,
     "metadata": {},
     "output_type": "execute_result"
    }
   ],
   "source": [
    "hrt_mu_arr.shape"
   ]
  },
  {
   "cell_type": "code",
   "execution_count": 6,
   "id": "a4dd96fb-f9b7-4c1a-85c7-aa90d6bcfcf7",
   "metadata": {},
   "outputs": [],
   "source": [
    "with open('/data/slam/sinjan/arlongterm_pickles_hann_SL/hrt_mu_arr.npy','wb') as f:\n",
    "    np.save(f,hrt_mu_arr)"
   ]
  },
  {
   "cell_type": "code",
   "execution_count": 7,
   "id": "6deca911-0c50-467a-a497-25e0e3cc1b4d",
   "metadata": {},
   "outputs": [],
   "source": [
    "with open('/data/slam/sinjan/arlongterm_pickles_hann_SL/hmi_mu_arr.npy','wb') as f:\n",
    "    np.save(f,hmi_mu_arr)"
   ]
  },
  {
   "cell_type": "code",
   "execution_count": null,
   "id": "38dde1c6-89eb-4ca9-9cc7-dd17a75aad4f",
   "metadata": {},
   "outputs": [],
   "source": []
  }
 ],
 "metadata": {
  "kernelspec": {
   "display_name": "old_pickle_loader",
   "language": "python",
   "name": "old_pickle_loader"
  },
  "language_info": {
   "codemirror_mode": {
    "name": "ipython",
    "version": 3
   },
   "file_extension": ".py",
   "mimetype": "text/x-python",
   "name": "python",
   "nbconvert_exporter": "python",
   "pygments_lexer": "ipython3",
   "version": "3.10.16"
  }
 },
 "nbformat": 4,
 "nbformat_minor": 5
}
